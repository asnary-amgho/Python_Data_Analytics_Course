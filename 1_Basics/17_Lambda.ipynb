{
  "cells": [
    {
      "cell_type": "markdown",
      "metadata": {
        "id": "72ba786c"
      },
      "source": [
        "<a target=\"_blank\" href=\"https://colab.research.google.com/github/lukebarousse/Python_Data_Analytics_Course/blob/main/1_Basics/17_Lambda.ipynb\">\n",
        "  <img src=\"https://colab.research.google.com/assets/colab-badge.svg\" alt=\"Open In Colab\"/>\n",
        "</a>"
      ]
    },
    {
      "cell_type": "markdown",
      "metadata": {
        "id": "6b5xjLNG-A_k"
      },
      "source": [
        "# Lambda"
      ]
    },
    {
      "cell_type": "markdown",
      "metadata": {
        "id": "0_MzG_ia-A_m"
      },
      "source": [
        "## Notes\n",
        "\n",
        "* `lambda` functions are small, anonymous functions.\n",
        "* They can have any number of arguments but only one expression.\n",
        "* The expression is evaluated and returned.\n",
        "* It has the syntax of: `lambda arguments: expression`.\n",
        "* Why would you use this?\n",
        "    * Concise, it lets you write functions in a single line of code.\n",
        "    * Since its anonymous it doesn't require a separate name like regular functions are defined using `def` keyword (it's good for when you need a function temporarily).\n",
        "\n",
        "\n",
        "## Importance\n",
        "\n",
        "Offers a succinct way to define anonymous functions. Useful in pandas for applying quick transformations to data."
      ]
    },
    {
      "cell_type": "code",
      "execution_count": null,
      "metadata": {
        "id": "vcAp6vNS-A_o"
      },
      "outputs": [],
      "source": [
        "# Define a lambda function to add two numbers\n",
        "add = lambda x, y: x + y"
      ]
    },
    {
      "cell_type": "code",
      "execution_count": null,
      "metadata": {
        "id": "47hQk62c-A_t",
        "outputId": "86cbda12-52b5-45a7-e34e-8b44b0d2b218"
      },
      "outputs": [
        {
          "data": {
            "text/plain": [
              "8"
            ]
          },
          "execution_count": 2,
          "metadata": {},
          "output_type": "execute_result"
        }
      ],
      "source": [
        "# Use the lambda function to add two numbers\n",
        "result1 = add(3, 5)\n",
        "result1"
      ]
    },
    {
      "cell_type": "markdown",
      "metadata": {
        "id": "rTV3p6lx-A_0"
      },
      "source": [
        "## Example"
      ]
    },
    {
      "cell_type": "markdown",
      "metadata": {
        "id": "XjQR_HwB-A_3"
      },
      "source": [
        "Previously, built a function to calculate the total salary.\n",
        "\n",
        "Now what happens if we need to use this function on a list.\n",
        "\n",
        "Well we can use it with list comprehension!"
      ]
    },
    {
      "cell_type": "code",
      "execution_count": 2,
      "metadata": {
        "id": "SmtSCyoH-A_6",
        "outputId": "ee3be60e-b923-4ab2-94bb-e76fc7dd0e40",
        "colab": {
          "base_uri": "https://localhost:8080/"
        }
      },
      "outputs": [
        {
          "output_type": "execute_result",
          "data": {
            "text/plain": [
              "[110000.00000000001,\n",
              " 220000.00000000003,\n",
              " 165000.0,\n",
              " 132000.0,\n",
              " 88000.0,\n",
              " 825000.0000000001]"
            ]
          },
          "metadata": {},
          "execution_count": 2
        }
      ],
      "source": [
        "salary_list = [100000, 200000, 150000, 120000, 80000, 750000]\n",
        "\n",
        "# Calculate total_salary of base_salary * (1 + bonus_rate)\n",
        "def calculate_salary(base_salary, bonus_rate=.1):\n",
        "  return base_salary * (1 + bonus_rate)\n",
        "\n",
        "total_salary_list = [calculate_salary(salary) for salary in salary_list]\n",
        "\n",
        "total_salary_list"
      ]
    },
    {
      "cell_type": "code",
      "execution_count": 7,
      "metadata": {
        "id": "FG1k547g-A_8",
        "outputId": "0f8770fa-7657-4660-dc96-66954e30096c",
        "colab": {
          "base_uri": "https://localhost:8080/"
        }
      },
      "outputs": [
        {
          "output_type": "execute_result",
          "data": {
            "text/plain": [
              "256666.66666666666"
            ]
          },
          "metadata": {},
          "execution_count": 7
        }
      ],
      "source": [
        "import numpy\n",
        "total_salary_list = [(lambda x: x * (1.1))(salary) for salary in salary_list]\n",
        "\n",
        "total_salary_list\n",
        "sum(total_salary_list)\n",
        "min(total_salary_list)\n",
        "numpy.mean(total_salary_list)"
      ]
    },
    {
      "cell_type": "markdown",
      "metadata": {
        "id": "QFl56-oz-A_-"
      },
      "source": [
        "**NOTE: This example was for demonstration purposes for using lambda**  \n",
        "\n",
        "Technically, you could just do this:"
      ]
    },
    {
      "cell_type": "code",
      "execution_count": null,
      "metadata": {
        "id": "rSmAih1o-BAA",
        "outputId": "ed31b0b3-25dc-4c04-e469-92408c995076"
      },
      "outputs": [
        {
          "data": {
            "text/plain": [
              "[110000.00000000001,\n",
              " 220000.00000000003,\n",
              " 165000.0,\n",
              " 132000.0,\n",
              " 88000.0,\n",
              " 825000.0000000001]"
            ]
          },
          "execution_count": 5,
          "metadata": {},
          "output_type": "execute_result"
        }
      ],
      "source": [
        "total_salary_list = [salary * 1.1 for salary in salary_list]\n",
        "\n",
        "total_salary_list"
      ]
    },
    {
      "cell_type": "markdown",
      "metadata": {
        "id": "oi0NzkPn-BAB"
      },
      "source": [
        "## Example #2\n",
        "\n",
        "Filter job postings based on the following:\n",
        "- Job skills contains \"Python\"\n",
        "- The job is remote (i.e., `True`)"
      ]
    },
    {
      "cell_type": "code",
      "execution_count": 8,
      "metadata": {
        "id": "7yJ1xz0C-BAD"
      },
      "outputs": [],
      "source": [
        "jobs_data = [\n",
        "    {'job_title': 'Data Scientist',  'job_skills': ['Python', 'Machine Learning'], 'remote': True},\n",
        "    {'job_title': 'Data Analyst',  'job_skills': ['Excel', 'SQL'], 'remote': False},\n",
        "    {'job_title': 'Machine Learning Engineer', 'job_skills': ['Python', 'TensorFlow', 'Keras'], 'remote': True},\n",
        "    {'job_title': 'Software Developer', 'job_skills': ['Java', 'C++'], 'remote': True},\n",
        "    {'job_title': 'Data Scientist', 'job_skills': ['R', 'Statistics'], 'remote': False}\n",
        "]"
      ]
    },
    {
      "cell_type": "markdown",
      "metadata": {
        "id": "633OmDv5-BAF"
      },
      "source": [
        "For this we will be using the `filter()` function"
      ]
    },
    {
      "cell_type": "code",
      "execution_count": null,
      "metadata": {
        "id": "IYV9tNzm-BAF",
        "outputId": "c9535d4a-561f-498e-8f2c-60c9916ec16e"
      },
      "outputs": [
        {
          "name": "stdout",
          "output_type": "stream",
          "text": [
            "Help on class filter in module builtins:\n",
            "\n",
            "class filter(object)\n",
            " |  filter(function or None, iterable) --> filter object\n",
            " |  \n",
            " |  Return an iterator yielding those items of iterable for which function(item)\n",
            " |  is true. If function is None, return the items that are true.\n",
            " |  \n",
            " |  Methods defined here:\n",
            " |  \n",
            " |  __getattribute__(self, name, /)\n",
            " |      Return getattr(self, name).\n",
            " |  \n",
            " |  __iter__(self, /)\n",
            " |      Implement iter(self).\n",
            " |  \n",
            " |  __next__(self, /)\n",
            " |      Implement next(self).\n",
            " |  \n",
            " |  __reduce__(...)\n",
            " |      Return state information for pickling.\n",
            " |  \n",
            " |  ----------------------------------------------------------------------\n",
            " |  Static methods defined here:\n",
            " |  \n",
            " |  __new__(*args, **kwargs)\n",
            " |      Create and return a new object.  See help(type) for accurate signature.\n",
            "\n"
          ]
        }
      ],
      "source": [
        "help(filter)"
      ]
    },
    {
      "cell_type": "markdown",
      "metadata": {
        "id": "JH9IIwHH-BAG"
      },
      "source": [
        " For the `filter()` function it takes two arguments:\n",
        " - function (we will use a lambda function)\n",
        " - iterable (we will use the job_data for this)\n",
        "\n",
        " |  filter(function or None, iterable) --> filter object\n",
        " |  \n",
        " |  Return an iterator yielding those items of iterable for which function(item)\n",
        " |  is true. If function is None, return the items that are true."
      ]
    },
    {
      "cell_type": "code",
      "execution_count": 13,
      "metadata": {
        "id": "0ENeWJuK-BAH",
        "outputId": "53054d48-813d-4982-fe16-43a4371430f0",
        "colab": {
          "base_uri": "https://localhost:8080/"
        }
      },
      "outputs": [
        {
          "output_type": "execute_result",
          "data": {
            "text/plain": [
              "[{'job_title': 'Data Scientist',\n",
              "  'job_skills': ['Python', 'Machine Learning'],\n",
              "  'remote': True},\n",
              " {'job_title': 'Machine Learning Engineer',\n",
              "  'job_skills': ['Python', 'TensorFlow', 'Keras'],\n",
              "  'remote': True},\n",
              " {'job_title': 'Software Developer',\n",
              "  'job_skills': ['Java', 'C++'],\n",
              "  'remote': True}]"
            ]
          },
          "metadata": {},
          "execution_count": 13
        }
      ],
      "source": [
        "# first let's just test out and only filter jobs that are remote\n",
        "list(filter(lambda job : job['remote'] and 'python' in job['job_skills'],jobs_data))\n",
        "list(filter(lambda job: job['remote'], jobs_data))"
      ]
    },
    {
      "cell_type": "markdown",
      "metadata": {
        "id": "dXj6zc_f-BAH"
      },
      "source": [
        "Now let's make this more readable and add in the filter for 'Python'."
      ]
    },
    {
      "cell_type": "code",
      "execution_count": null,
      "metadata": {
        "id": "bfkyyTMU-BAI",
        "outputId": "d0af0ae6-c460-4c00-eaf7-ae490c23f270"
      },
      "outputs": [
        {
          "name": "stdout",
          "output_type": "stream",
          "text": [
            "{'job_title': 'Data Scientist', 'job_skills': ['Python', 'Machine Learning'], 'remote': True}\n",
            "{'job_title': 'Machine Learning Engineer', 'job_skills': ['Python', 'TensorFlow', 'Keras'], 'remote': True}\n"
          ]
        }
      ],
      "source": [
        "# Define a lambda function for filtering jobs that require Python and are remote\n",
        "filter_criteria = lambda job: 'Python' in job['job_skills'] and job['remote']\n",
        "\n",
        "# Apply the filter\n",
        "python_remote_jobs = list(filter(filter_criteria, jobs_data))\n",
        "\n",
        "# Display the filtered job listings\n",
        "for job in python_remote_jobs:\n",
        "    print(job)"
      ]
    }
  ],
  "metadata": {
    "kernelspec": {
      "display_name": "venv3",
      "language": "python",
      "name": "python3"
    },
    "language_info": {
      "codemirror_mode": {
        "name": "ipython",
        "version": 3
      },
      "file_extension": ".py",
      "mimetype": "text/x-python",
      "name": "python",
      "nbconvert_exporter": "python",
      "pygments_lexer": "ipython3",
      "version": "3.11.9"
    },
    "colab": {
      "provenance": []
    }
  },
  "nbformat": 4,
  "nbformat_minor": 0
}