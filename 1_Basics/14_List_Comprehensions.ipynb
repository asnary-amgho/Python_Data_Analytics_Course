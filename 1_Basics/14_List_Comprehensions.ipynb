{
  "cells": [
    {
      "cell_type": "markdown",
      "metadata": {
        "id": "e9f047ab"
      },
      "source": [
        "<a target=\"_blank\" href=\"https://colab.research.google.com/github/lukebarousse/Python_Data_Analytics_Course/blob/main/1_Basics/14_List_Comprehensions.ipynb\">\n",
        "  <img src=\"https://colab.research.google.com/assets/colab-badge.svg\" alt=\"Open In Colab\"/>\n",
        "</a>"
      ]
    },
    {
      "cell_type": "markdown",
      "metadata": {
        "id": "sGv0RJ4-awf3"
      },
      "source": [
        "# List Comprehensions"
      ]
    },
    {
      "cell_type": "markdown",
      "metadata": {
        "id": "zbmDDDjQXVXH"
      },
      "source": [
        "## Notes\n",
        "\n",
        "* A way way to create a new list (with shorter syntax) based on the values of an existing list.\n",
        "\n",
        "Not limited to only `list` comprehension:\n",
        "- `set` comprehension\n",
        "- `tuple` comprehension\n",
        "- `dictionary` comprehension\n",
        "\n",
        "## Importance\n",
        "\n",
        "Provide a concise way to create lists. Useful for data manipulation and filtering in pandas."
      ]
    },
    {
      "cell_type": "code",
      "execution_count": null,
      "metadata": {
        "id": "RcvhqQGVXVXH",
        "outputId": "9e14660d-7e05-4ccf-9bec-008af08a8410"
      },
      "outputs": [
        {
          "data": {
            "text/plain": [
              "[0, 1, 2, 3, 4, 5, 6, 7, 8, 9]"
            ]
          },
          "execution_count": 1,
          "metadata": {},
          "output_type": "execute_result"
        }
      ],
      "source": [
        "# Creating a list of numbers from 0 to 9\n",
        "numbers = [x for x in range(10)]\n",
        "numbers"
      ]
    },
    {
      "cell_type": "markdown",
      "metadata": {
        "id": "ZlQq9uP4XVXM"
      },
      "source": [
        "## Example # 1\n",
        "\n",
        "We're going to modify our example that we used in our `for` loop. Intsead of having the whole print statement with \"Position requires X years of experience\". We are just going to print out the experience required. This is a simplified version of our code earlier."
      ]
    },
    {
      "cell_type": "code",
      "execution_count": null,
      "metadata": {
        "colab": {
          "base_uri": "https://localhost:8080/"
        },
        "id": "vEJN6KYx_25k",
        "outputId": "11d275ae-be83-40a6-b57c-71a6ce419beb"
      },
      "outputs": [
        {
          "name": "stdout",
          "output_type": "stream",
          "text": [
            "1\n",
            "2\n",
            "3\n"
          ]
        }
      ],
      "source": [
        "# Minimum experience required for job positions\n",
        "position_experience_requirements = [1, 2, 3]\n",
        "\n",
        "# Iterate over each experience requirement in the list of job positions\n",
        "for x in position_experience_requirements:\n",
        "    print(x)"
      ]
    },
    {
      "cell_type": "markdown",
      "metadata": {
        "id": "SmKheGy0_31s"
      },
      "source": [
        "Now let's use list comprehension to shorten this.\n",
        "\n",
        "- The code defines `position_experience_requirements` as a list of integers representing minimum years of experience required for various job positions.\n",
        "- The for loop goes through each list item in `postion_experience_requirements` and prints out the `requirement`."
      ]
    },
    {
      "cell_type": "code",
      "execution_count": null,
      "metadata": {
        "id": "b-NZmpXxXVXP",
        "outputId": "9c0de66f-389d-4320-c438-37eb79a80f28"
      },
      "outputs": [
        {
          "data": {
            "text/plain": [
              "[1, 2, 3]"
            ]
          },
          "execution_count": 3,
          "metadata": {},
          "output_type": "execute_result"
        }
      ],
      "source": [
        "# Create a list of job positions\n",
        "experience = [x for x in position_experience_requirements]\n",
        "\n",
        "# The result will be a list of job positions\n",
        "experience"
      ]
    },
    {
      "cell_type": "markdown",
      "metadata": {
        "id": "hurzpXMWXVXP"
      },
      "source": [
        "This is pretty basic. So let's make it a bit more useful. I'm going to add in a variable that stores the user's years of experience."
      ]
    },
    {
      "cell_type": "code",
      "execution_count": null,
      "metadata": {
        "id": "2xMVDWhgXVXQ",
        "outputId": "4b719f5f-3358-47a7-c29b-7e930a53435c"
      },
      "outputs": [
        {
          "data": {
            "text/plain": [
              "2"
            ]
          },
          "execution_count": 5,
          "metadata": {},
          "output_type": "execute_result"
        }
      ],
      "source": [
        "user_experience = 2\n",
        "user_experience"
      ]
    },
    {
      "cell_type": "markdown",
      "metadata": {
        "id": "S9QHW5BoXVXQ"
      },
      "source": [
        "Now, we are adding an if condition to our list comprehension. This condition checks if the user's experience (`user_experience`) is greater than or equal to each item (`x`) in the `position_experience_requirements` list.\n",
        "\n",
        "```python\n",
        "if user_experience >= x\n",
        "```\n",
        "\n",
        "It returns only the jobs where the requirement is met or is lower than the user's experience."
      ]
    },
    {
      "cell_type": "code",
      "execution_count": null,
      "metadata": {
        "id": "4RjUAA8oXVXQ",
        "outputId": "62c2b1a9-270c-4475-a8b8-70a5ea9f5472"
      },
      "outputs": [
        {
          "data": {
            "text/plain": [
              "[1, 2]"
            ]
          },
          "execution_count": 12,
          "metadata": {},
          "output_type": "execute_result"
        }
      ],
      "source": [
        "# Create a list of job positions for which the user is qualified\n",
        "\n",
        "qualified_positions= [x for x in position_experience_requirements if user_experience>= x]\n",
        "\n",
        "qualified_positions"
      ]
    },
    {
      "cell_type": "markdown",
      "metadata": {
        "id": "YyGHor9sXVXQ"
      },
      "source": [
        "## Example # 2"
      ]
    },
    {
      "cell_type": "markdown",
      "metadata": {
        "id": "n7N0cCWOXVXR"
      },
      "source": [
        "This first code block extracts the data we need for this exercise; we'll dive into this later in the course.\n",
        "\n",
        "For now just understand I'm extracting the list of `job_titles` form our dataset."
      ]
    },
    {
      "cell_type": "code",
      "execution_count": null,
      "metadata": {
        "id": "znfHs1UnXVXR"
      },
      "outputs": [],
      "source": [
        "from datasets import load_dataset\n",
        "\n",
        "# Load the dataset\n",
        "dataset = load_dataset('lukebarousse/data_jobs')\n",
        "df = dataset['train'].to_pandas()\n",
        "\n",
        "# Create a list of job titles from the dataset\n",
        "job_list = df['job_title'].tolist()\n",
        "\n",
        "# Remove any non-string values from the list\n",
        "job_list = [job for job in job_list if isinstance(job, str)]"
      ]
    },
    {
      "cell_type": "markdown",
      "metadata": {
        "id": "Q87yGIalXVXR"
      },
      "source": [
        "Let's modify our previous `for` loop into a list comp!"
      ]
    },
    {
      "cell_type": "code",
      "execution_count": null,
      "metadata": {
        "id": "MiBk5KnOXVXR",
        "outputId": "30a4cdf0-30e8-48ac-e59b-e3a52f0874a4"
      },
      "outputs": [
        {
          "data": {
            "text/plain": [
              "['Technical Data Analyst',\n",
              " 'Sr. Data Analyst - Full-time / Part-time',\n",
              " 'Data Analyst',\n",
              " 'Data Analyst',\n",
              " 'Data Analyst Junior settore Logistica',\n",
              " 'Senior Data Analyst - Now Hiring',\n",
              " 'Health Technology Data Analyst',\n",
              " 'Data Analyst',\n",
              " 'Love Excel? Junior Data Analyst for Real Estate',\n",
              " 'Data Analyst']"
            ]
          },
          "execution_count": 13,
          "metadata": {},
          "output_type": "execute_result"
        }
      ],
      "source": [
        "# previous for loop\n",
        "analyst_list = []\n",
        "\n",
        "for job in job_list:\n",
        "  if \"Data Analyst\" in job:\n",
        "    analyst_list.append(job)\n",
        "\n",
        "# show first 10 values\n",
        "analyst_list[:10]"
      ]
    },
    {
      "cell_type": "markdown",
      "metadata": {
        "id": "06JVJIQlXVXR"
      },
      "source": [
        "However that was 4 lines of code!\n",
        "\n",
        "With list comprehension we can do it in only 1."
      ]
    },
    {
      "cell_type": "code",
      "execution_count": null,
      "metadata": {
        "id": "rtyr33uYXVXR",
        "outputId": "3c79f4fa-685b-4669-d221-23353ed53ab9"
      },
      "outputs": [
        {
          "data": {
            "text/plain": [
              "['Technical Data Analyst',\n",
              " 'Sr. Data Analyst - Full-time / Part-time',\n",
              " 'Data Analyst',\n",
              " 'Data Analyst',\n",
              " 'Data Analyst Junior settore Logistica',\n",
              " 'Senior Data Analyst - Now Hiring',\n",
              " 'Health Technology Data Analyst',\n",
              " 'Data Analyst',\n",
              " 'Love Excel? Junior Data Analyst for Real Estate',\n",
              " 'Data Analyst']"
            ]
          },
          "execution_count": 14,
          "metadata": {},
          "output_type": "execute_result"
        }
      ],
      "source": [
        "analyst_list = [job for job in job_list if \"Data Analyst\" in job]\n",
        "\n",
        "# show first 10 values\n",
        "analyst_list[:10]"
      ]
    },
    {
      "cell_type": "code",
      "execution_count": null,
      "metadata": {
        "id": "RRXV7ONpXVXS",
        "outputId": "cfa89f72-0e32-4c70-a916-cb088aa46462"
      },
      "outputs": [
        {
          "name": "stdout",
          "output_type": "stream",
          "text": [
            "Job list is:      787685 jobs\n",
            "Analyst list is:  163124 jobs\n"
          ]
        }
      ],
      "source": [
        "print(\"Job list is:     \" , len(job_list), \"jobs\")\n",
        "print(\"Analyst list is: \", len(analyst_list), \"jobs\")"
      ]
    },
    {
      "cell_type": "code",
      "source": [
        "multiplication_table = [[i*j for i in range(1,10) if i%4 >1]for j in range(4,9) if j%2==0]\n",
        "print(multiplication_table)"
      ],
      "metadata": {
        "id": "fEtwEb90cmsV",
        "outputId": "11d80279-2bb5-44eb-eafb-03d81034336e",
        "colab": {
          "base_uri": "https://localhost:8080/"
        }
      },
      "execution_count": 4,
      "outputs": [
        {
          "output_type": "stream",
          "name": "stdout",
          "text": [
            "[[8, 12, 24, 28], [12, 18, 36, 42], [16, 24, 48, 56]]\n"
          ]
        }
      ]
    },
    {
      "cell_type": "code",
      "source": [
        "even_squares = [ x**2 for x in range(5,19) if x%3==1]\n",
        "print(even_squares)"
      ],
      "metadata": {
        "id": "LO2QVVxFc1T5",
        "outputId": "14358744-ce08-442e-dea0-8cc474886310",
        "colab": {
          "base_uri": "https://localhost:8080/"
        }
      },
      "execution_count": 6,
      "outputs": [
        {
          "output_type": "stream",
          "name": "stdout",
          "text": [
            "[49, 100, 169, 256]\n"
          ]
        }
      ]
    },
    {
      "cell_type": "code",
      "source": [
        "nested_list = [[1,2,3],[4,5],[9,7,8]]\n",
        "flattened= [ item for sublist in nested_list for item in sublist]\n",
        "print(flattened)"
      ],
      "metadata": {
        "id": "4hl7gEZEdqS5",
        "outputId": "a3e95034-37fc-42b9-84b7-e96b23faee58",
        "colab": {
          "base_uri": "https://localhost:8080/"
        }
      },
      "execution_count": 8,
      "outputs": [
        {
          "output_type": "stream",
          "name": "stdout",
          "text": [
            "[1, 2, 3, 4, 5, 9, 7, 8]\n"
          ]
        }
      ]
    },
    {
      "cell_type": "code",
      "source": [
        "grid= [ (x,y) for x in range(5,9) for y in range(4,8)]\n",
        "print(grid)"
      ],
      "metadata": {
        "id": "PVhj4WMOerno",
        "outputId": "d943b2a3-fd40-42f1-a18a-d4568b5a60e7",
        "colab": {
          "base_uri": "https://localhost:8080/"
        }
      },
      "execution_count": 7,
      "outputs": [
        {
          "output_type": "stream",
          "name": "stdout",
          "text": [
            "[(5, 4), (5, 5), (5, 6), (5, 7), (6, 4), (6, 5), (6, 6), (6, 7), (7, 4), (7, 5), (7, 6), (7, 7), (8, 4), (8, 5), (8, 6), (8, 7)]\n"
          ]
        }
      ]
    },
    {
      "cell_type": "code",
      "source": [
        "words = [ 'apple', 'banana' , 'champ','damn','cherry','pop']\n",
        "word_lengths = { word: len(word) for word in words if len(word)>5}\n",
        "print(word_lengths)"
      ],
      "metadata": {
        "id": "tlBsDdJre4SJ",
        "outputId": "dd2d0a6b-dd64-4dba-8a4e-1ad9854b1944",
        "colab": {
          "base_uri": "https://localhost:8080/"
        }
      },
      "execution_count": 10,
      "outputs": [
        {
          "output_type": "stream",
          "name": "stdout",
          "text": [
            "{'banana': 6, 'cherry': 6}\n"
          ]
        }
      ]
    },
    {
      "cell_type": "code",
      "source": [
        "sentence = \"I have a dream that one day this nation will rise up and live out the true meaning of its creed.\"\n",
        "\n",
        "word_list= sentence.lower().split()  # first lower  then  split  because list obj does not have lower method\n",
        "print(word_list)\n",
        "word_list.count('that')\n",
        "\n",
        "word_count= {word:sentence.lower().split().count(word) for word in set(sentence.lower().split())}\n",
        "print(word_count)"
      ],
      "metadata": {
        "id": "UuzVqehrftNR",
        "outputId": "e0fa85f1-137a-48f8-bb8f-5db2b0782c26",
        "colab": {
          "base_uri": "https://localhost:8080/"
        }
      },
      "execution_count": 18,
      "outputs": [
        {
          "output_type": "stream",
          "name": "stdout",
          "text": [
            "['i', 'have', 'a', 'dream', 'that', 'one', 'day', 'this', 'nation', 'will', 'rise', 'up', 'and', 'live', 'out', 'the', 'true', 'meaning', 'of', 'its', 'creed.']\n",
            "{'i': 1, 'the': 1, 'true': 1, 'live': 1, 'a': 1, 'up': 1, 'meaning': 1, 'one': 1, 'will': 1, 'this': 1, 'have': 1, 'and': 1, 'dream': 1, 'that': 1, 'rise': 1, 'of': 1, 'day': 1, 'creed.': 1, 'nation': 1, 'its': 1, 'out': 1}\n"
          ]
        }
      ]
    },
    {
      "cell_type": "code",
      "source": [
        "data_string = \"In 2025, the population of city X is expected to reach 1 million 250k.\"\n",
        "\n",
        "digits = [ int(char) for char in data_string if char.isdigit()]\n",
        "print(digits)\n",
        "n=10\n",
        "rest= [6,9,8,5]+[0]*(n-4)\n",
        "print(rest)"
      ],
      "metadata": {
        "id": "nOW1a5bBhGLZ",
        "outputId": "1fc17408-40a4-4963-c61c-05263d8d6acf",
        "colab": {
          "base_uri": "https://localhost:8080/"
        }
      },
      "execution_count": 23,
      "outputs": [
        {
          "output_type": "stream",
          "name": "stdout",
          "text": [
            "[2, 0, 2, 5, 1, 2, 5, 0]\n",
            "[6, 9, 8, 5, 0, 0, 0, 0, 0, 0]\n"
          ]
        }
      ]
    },
    {
      "cell_type": "code",
      "source": [
        "people = [\n",
        "    {'name': 'Alice', 'age': 30},\n",
        "    {'name': 'Bob', 'age': 25},\n",
        "    {'name': 'Charlie', 'age': 35},\n",
        "    {'name': 'David', 'age': 20}\n",
        "]\n",
        "younger_than_25 = [person for person in people if person['age']<25]\n",
        "print(younger_than_25)"
      ],
      "metadata": {
        "id": "JHQeju2Xk4Od",
        "outputId": "d4d7b9e8-3cee-48a5-b23c-d20de63aa67e",
        "colab": {
          "base_uri": "https://localhost:8080/"
        }
      },
      "execution_count": 22,
      "outputs": [
        {
          "output_type": "stream",
          "name": "stdout",
          "text": [
            "[{'name': 'David', 'age': 20}]\n"
          ]
        }
      ]
    },
    {
      "cell_type": "code",
      "source": [
        "n=int(input('till what n '))\n",
        "fibo = [0,1]+[fibo[i-1]+fibo[i-2] for i in range(2,n)]\n",
        "print(fibo) # why its wrong ?"
      ],
      "metadata": {
        "id": "ILB33MrIlYE0",
        "outputId": "da6c74f8-3fec-43f0-f6bf-299d7b44eff6",
        "colab": {
          "base_uri": "https://localhost:8080/"
        }
      },
      "execution_count": 26,
      "outputs": [
        {
          "output_type": "stream",
          "name": "stdout",
          "text": [
            "till what n 10\n",
            "[0, 1, 1, 2, 2, 1, 0, 0, 0, 0]\n"
          ]
        }
      ]
    },
    {
      "cell_type": "code",
      "source": [
        "n = int(input('till what n '))\n",
        "fibo = [0, 1]\n",
        "for i in range(2, n):\n",
        "    fibo.append(fibo[i-1] + fibo[i-2])\n",
        "print(fibo)"
      ],
      "metadata": {
        "id": "vuKj8I1ZlUWA",
        "outputId": "cf8887b5-be69-4f8f-ee61-79407ee889bf",
        "colab": {
          "base_uri": "https://localhost:8080/"
        }
      },
      "execution_count": 36,
      "outputs": [
        {
          "output_type": "stream",
          "name": "stdout",
          "text": [
            "till what n 10\n",
            "[0, 1, 1, 2, 3, 5, 8, 13, 21, 34]\n"
          ]
        }
      ]
    },
    {
      "cell_type": "code",
      "source": [],
      "metadata": {
        "id": "wdMV2dGjwCfB"
      },
      "execution_count": 39,
      "outputs": []
    },
    {
      "cell_type": "code",
      "source": [
        "n = int(input('till what n '))\n",
        "\n",
        "# Precompute Fibonacci sequence\n",
        "fibo = [0, 1]\n",
        "[fibo.append(fibo[-1] + fibo[-2]) for _ in range(2, n)]  # Extend the list\n",
        "print(fibo)\n",
        "# Use list comprehension to slice the result\n",
        "#fibo = [fibo[i] for i in range(n)]   :/  what is wrong with you\n",
        "print(fibo)"
      ],
      "metadata": {
        "id": "pHdR66K5yH4E",
        "outputId": "c4153e54-407c-4ffb-914d-9da426c48b07",
        "colab": {
          "base_uri": "https://localhost:8080/"
        }
      },
      "execution_count": 53,
      "outputs": [
        {
          "output_type": "stream",
          "name": "stdout",
          "text": [
            "till what n 20\n",
            "[0, 1, 1, 2, 3, 5, 8, 13, 21, 34, 55, 89, 144, 233, 377, 610, 987, 1597, 2584, 4181]\n",
            "[0, 1, 1, 2, 3, 5, 8, 13, 21, 34, 55, 89, 144, 233, 377, 610, 987, 1597, 2584, 4181]\n"
          ]
        }
      ]
    },
    {
      "cell_type": "code",
      "source": [
        "def fibonacci(n):\n",
        "    return [fib(i) for i in range(n)]\n",
        "\n",
        "def fib(k):\n",
        "    if k == 0:\n",
        "        return 0\n",
        "    elif k == 1:\n",
        "        return 1\n",
        "    else:\n",
        "        a, b = 0, 1\n",
        "        for _ in range(2, k + 1):\n",
        "            a, b = b, a + b\n",
        "        return b\n",
        "\n",
        "n = int(input('till what n '))\n",
        "print(fibonacci(n))"
      ],
      "metadata": {
        "id": "V-F3vVGkyn-Z",
        "outputId": "8907ac06-f209-4d33-f764-9161ba6b5ce2",
        "colab": {
          "base_uri": "https://localhost:8080/",
          "height": 356
        }
      },
      "execution_count": 46,
      "outputs": [
        {
          "output_type": "error",
          "ename": "KeyboardInterrupt",
          "evalue": "Interrupted by user",
          "traceback": [
            "\u001b[0;31m---------------------------------------------------------------------------\u001b[0m",
            "\u001b[0;31mKeyboardInterrupt\u001b[0m                         Traceback (most recent call last)",
            "\u001b[0;32m<ipython-input-46-3157b0cdb14b>\u001b[0m in \u001b[0;36m<cell line: 0>\u001b[0;34m()\u001b[0m\n\u001b[1;32m     13\u001b[0m         \u001b[0;32mreturn\u001b[0m \u001b[0mb\u001b[0m\u001b[0;34m\u001b[0m\u001b[0;34m\u001b[0m\u001b[0m\n\u001b[1;32m     14\u001b[0m \u001b[0;34m\u001b[0m\u001b[0m\n\u001b[0;32m---> 15\u001b[0;31m \u001b[0mn\u001b[0m \u001b[0;34m=\u001b[0m \u001b[0mint\u001b[0m\u001b[0;34m(\u001b[0m\u001b[0minput\u001b[0m\u001b[0;34m(\u001b[0m\u001b[0;34m'till what n '\u001b[0m\u001b[0;34m)\u001b[0m\u001b[0;34m)\u001b[0m\u001b[0;34m\u001b[0m\u001b[0;34m\u001b[0m\u001b[0m\n\u001b[0m\u001b[1;32m     16\u001b[0m \u001b[0mprint\u001b[0m\u001b[0;34m(\u001b[0m\u001b[0mfibonacci\u001b[0m\u001b[0;34m(\u001b[0m\u001b[0mn\u001b[0m\u001b[0;34m)\u001b[0m\u001b[0;34m)\u001b[0m\u001b[0;34m\u001b[0m\u001b[0;34m\u001b[0m\u001b[0m\n",
            "\u001b[0;32m/usr/local/lib/python3.11/dist-packages/ipykernel/kernelbase.py\u001b[0m in \u001b[0;36mraw_input\u001b[0;34m(self, prompt)\u001b[0m\n\u001b[1;32m    849\u001b[0m                 \u001b[0;34m\"raw_input was called, but this frontend does not support input requests.\"\u001b[0m\u001b[0;34m\u001b[0m\u001b[0;34m\u001b[0m\u001b[0m\n\u001b[1;32m    850\u001b[0m             )\n\u001b[0;32m--> 851\u001b[0;31m         return self._input_request(str(prompt),\n\u001b[0m\u001b[1;32m    852\u001b[0m             \u001b[0mself\u001b[0m\u001b[0;34m.\u001b[0m\u001b[0m_parent_ident\u001b[0m\u001b[0;34m,\u001b[0m\u001b[0;34m\u001b[0m\u001b[0;34m\u001b[0m\u001b[0m\n\u001b[1;32m    853\u001b[0m             \u001b[0mself\u001b[0m\u001b[0;34m.\u001b[0m\u001b[0m_parent_header\u001b[0m\u001b[0;34m,\u001b[0m\u001b[0;34m\u001b[0m\u001b[0;34m\u001b[0m\u001b[0m\n",
            "\u001b[0;32m/usr/local/lib/python3.11/dist-packages/ipykernel/kernelbase.py\u001b[0m in \u001b[0;36m_input_request\u001b[0;34m(self, prompt, ident, parent, password)\u001b[0m\n\u001b[1;32m    893\u001b[0m             \u001b[0;32mexcept\u001b[0m \u001b[0mKeyboardInterrupt\u001b[0m\u001b[0;34m:\u001b[0m\u001b[0;34m\u001b[0m\u001b[0;34m\u001b[0m\u001b[0m\n\u001b[1;32m    894\u001b[0m                 \u001b[0;31m# re-raise KeyboardInterrupt, to truncate traceback\u001b[0m\u001b[0;34m\u001b[0m\u001b[0;34m\u001b[0m\u001b[0m\n\u001b[0;32m--> 895\u001b[0;31m                 \u001b[0;32mraise\u001b[0m \u001b[0mKeyboardInterrupt\u001b[0m\u001b[0;34m(\u001b[0m\u001b[0;34m\"Interrupted by user\"\u001b[0m\u001b[0;34m)\u001b[0m \u001b[0;32mfrom\u001b[0m \u001b[0;32mNone\u001b[0m\u001b[0;34m\u001b[0m\u001b[0;34m\u001b[0m\u001b[0m\n\u001b[0m\u001b[1;32m    896\u001b[0m             \u001b[0;32mexcept\u001b[0m \u001b[0mException\u001b[0m \u001b[0;32mas\u001b[0m \u001b[0me\u001b[0m\u001b[0;34m:\u001b[0m\u001b[0;34m\u001b[0m\u001b[0;34m\u001b[0m\u001b[0m\n\u001b[1;32m    897\u001b[0m                 \u001b[0mself\u001b[0m\u001b[0;34m.\u001b[0m\u001b[0mlog\u001b[0m\u001b[0;34m.\u001b[0m\u001b[0mwarning\u001b[0m\u001b[0;34m(\u001b[0m\u001b[0;34m\"Invalid Message:\"\u001b[0m\u001b[0;34m,\u001b[0m \u001b[0mexc_info\u001b[0m\u001b[0;34m=\u001b[0m\u001b[0;32mTrue\u001b[0m\u001b[0;34m)\u001b[0m\u001b[0;34m\u001b[0m\u001b[0;34m\u001b[0m\u001b[0m\n",
            "\u001b[0;31mKeyboardInterrupt\u001b[0m: Interrupted by user"
          ]
        }
      ]
    },
    {
      "cell_type": "code",
      "source": [
        "sentence = \"This is an example sentence.\"\n",
        "vowel_counts = {vowel : sentence.lower().count(vowel) for vowel in 'aeiou' if vowel in sentence.lower() }\n",
        "print(vowel_counts)\n"
      ],
      "metadata": {
        "id": "PmO_R0DKzluz",
        "outputId": "1138072d-c0aa-466b-a0ad-9ca470087c94",
        "colab": {
          "base_uri": "https://localhost:8080/"
        }
      },
      "execution_count": 49,
      "outputs": [
        {
          "output_type": "stream",
          "name": "stdout",
          "text": [
            "{'a': 2, 'e': 5, 'i': 2}\n"
          ]
        }
      ]
    },
    {
      "cell_type": "code",
      "source": [],
      "metadata": {
        "id": "OJLFHXSz0jrK"
      },
      "execution_count": null,
      "outputs": []
    }
  ],
  "metadata": {
    "colab": {
      "provenance": []
    },
    "kernelspec": {
      "display_name": "Python 3",
      "name": "python3"
    },
    "language_info": {
      "codemirror_mode": {
        "name": "ipython",
        "version": 3
      },
      "file_extension": ".py",
      "mimetype": "text/x-python",
      "name": "python",
      "nbconvert_exporter": "python",
      "pygments_lexer": "ipython3",
      "version": "3.9.19"
    }
  },
  "nbformat": 4,
  "nbformat_minor": 0
}