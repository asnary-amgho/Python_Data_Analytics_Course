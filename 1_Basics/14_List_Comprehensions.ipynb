{
  "cells": [
    {
      "cell_type": "markdown",
      "metadata": {
        "id": "e9f047ab"
      },
      "source": [
        "<a target=\"_blank\" href=\"https://colab.research.google.com/github/lukebarousse/Python_Data_Analytics_Course/blob/main/1_Basics/14_List_Comprehensions.ipynb\">\n",
        "  <img src=\"https://colab.research.google.com/assets/colab-badge.svg\" alt=\"Open In Colab\"/>\n",
        "</a>"
      ]
    },
    {
      "cell_type": "markdown",
      "metadata": {
        "id": "sGv0RJ4-awf3"
      },
      "source": [
        "# List Comprehensions"
      ]
    },
    {
      "cell_type": "markdown",
      "metadata": {
        "id": "dCpn8UMo_ItT"
      },
      "source": [
        "## Notes\n",
        "\n",
        "* A way way to create a new list (with shorter syntax) based on the values of an existing list.\n",
        "\n",
        "Not limited to only `list` comprehension:\n",
        "- `set` comprehension\n",
        "- `tuple` comprehension\n",
        "- `dictionary` comprehension\n",
        "\n",
        "## Importance\n",
        "\n",
        "Provide a concise way to create lists. Useful for data manipulation and filtering in pandas."
      ]
    },
    {
      "cell_type": "code",
      "execution_count": null,
      "metadata": {
        "id": "B8SzkuS9_ItT",
        "outputId": "a4137ecc-c494-4715-e99f-f5550925e82b"
      },
      "outputs": [
        {
          "data": {
            "text/plain": [
              "[0, 1, 2, 3, 4, 5, 6, 7, 8, 9]"
            ]
          },
          "execution_count": 1,
          "metadata": {},
          "output_type": "execute_result"
        }
      ],
      "source": [
        "# Creating a list of numbers from 0 to 9\n",
        "numbers = [x for x in range(10)]\n",
        "numbers"
      ]
    },
    {
      "cell_type": "markdown",
      "metadata": {
        "id": "s0U-KhsL_ItU"
      },
      "source": [
        "## Example # 1\n",
        "\n",
        "We're going to modify our example that we used in our `for` loop. Intsead of having the whole print statement with \"Position requires X years of experience\". We are just going to print out the experience required. This is a simplified version of our code earlier."
      ]
    },
    {
      "cell_type": "code",
      "execution_count": null,
      "metadata": {
        "colab": {
          "base_uri": "https://localhost:8080/"
        },
        "id": "vEJN6KYx_25k",
        "outputId": "11d275ae-be83-40a6-b57c-71a6ce419beb"
      },
      "outputs": [
        {
          "name": "stdout",
          "output_type": "stream",
          "text": [
            "1\n",
            "2\n",
            "3\n"
          ]
        }
      ],
      "source": [
        "# Minimum experience required for job positions\n",
        "position_experience_requirements = [1, 2, 3]\n",
        "\n",
        "# Iterate over each experience requirement in the list of job positions\n",
        "for x in position_experience_requirements:\n",
        "    print(x)"
      ]
    },
    {
      "cell_type": "markdown",
      "metadata": {
        "id": "SmKheGy0_31s"
      },
      "source": [
        "Now let's use list comprehension to shorten this.\n",
        "\n",
        "- The code defines `position_experience_requirements` as a list of integers representing minimum years of experience required for various job positions.\n",
        "- The for loop goes through each list item in `postion_experience_requirements` and prints out the `requirement`."
      ]
    },
    {
      "cell_type": "code",
      "execution_count": null,
      "metadata": {
        "id": "A08Cbein_ItV",
        "outputId": "eee0145d-1181-4a02-aa01-908a82e678e4"
      },
      "outputs": [
        {
          "data": {
            "text/plain": [
              "[1, 2, 3]"
            ]
          },
          "execution_count": 3,
          "metadata": {},
          "output_type": "execute_result"
        }
      ],
      "source": [
        "# Create a list of job positions\n",
        "experience = [x for x in position_experience_requirements]\n",
        "\n",
        "# The result will be a list of job positions\n",
        "experience"
      ]
    },
    {
      "cell_type": "markdown",
      "metadata": {
        "id": "lH_cNfvf_ItV"
      },
      "source": [
        "This is pretty basic. So let's make it a bit more useful. I'm going to add in a variable that stores the user's years of experience."
      ]
    },
    {
      "cell_type": "code",
      "execution_count": null,
      "metadata": {
        "id": "UZ4jWFd4_ItW",
        "outputId": "eb9b5c0d-ebe8-44ec-a74c-ea808b9ed6dc"
      },
      "outputs": [
        {
          "data": {
            "text/plain": [
              "2"
            ]
          },
          "execution_count": 5,
          "metadata": {},
          "output_type": "execute_result"
        }
      ],
      "source": [
        "user_experience = 2\n",
        "user_experience"
      ]
    },
    {
      "cell_type": "markdown",
      "metadata": {
        "id": "o8QHag8__ItW"
      },
      "source": [
        "Now, we are adding an if condition to our list comprehension. This condition checks if the user's experience (`user_experience`) is greater than or equal to each item (`x`) in the `position_experience_requirements` list.\n",
        "\n",
        "```python\n",
        "if user_experience >= x\n",
        "```\n",
        "\n",
        "It returns only the jobs where the requirement is met or is lower than the user's experience."
      ]
    },
    {
      "cell_type": "code",
      "execution_count": null,
      "metadata": {
        "id": "9eptu6UK_ItW",
        "outputId": "6bd4c1a0-caa1-422c-f186-189d12e528ad"
      },
      "outputs": [
        {
          "data": {
            "text/plain": [
              "[1, 2]"
            ]
          },
          "execution_count": 12,
          "metadata": {},
          "output_type": "execute_result"
        }
      ],
      "source": [
        "# Create a list of job positions for which the user is qualified\n",
        "\n",
        "qualified_positions= [x for x in position_experience_requirements if user_experience>= x]\n",
        "\n",
        "qualified_positions"
      ]
    },
    {
      "cell_type": "markdown",
      "metadata": {
        "id": "8E8ThTSr_ItW"
      },
      "source": [
        "## Example # 2"
      ]
    },
    {
      "cell_type": "markdown",
      "metadata": {
        "id": "NKlObMUv_ItW"
      },
      "source": [
        "This first code block extracts the data we need for this exercise; we'll dive into this later in the course.\n",
        "\n",
        "For now just understand I'm extracting the list of `job_titles` form our dataset."
      ]
    },
    {
      "cell_type": "code",
      "execution_count": null,
      "metadata": {
        "id": "Snu38T6i_ItW"
      },
      "outputs": [],
      "source": [
        "from datasets import load_dataset\n",
        "\n",
        "# Load the dataset\n",
        "dataset = load_dataset('lukebarousse/data_jobs')\n",
        "df = dataset['train'].to_pandas()\n",
        "\n",
        "# Create a list of job titles from the dataset\n",
        "job_list = df['job_title'].tolist()\n",
        "\n",
        "# Remove any non-string values from the list\n",
        "job_list = [job for job in job_list if isinstance(job, str)]"
      ]
    },
    {
      "cell_type": "markdown",
      "metadata": {
        "id": "nTE62N2B_ItW"
      },
      "source": [
        "Let's modify our previous `for` loop into a list comp!"
      ]
    },
    {
      "cell_type": "code",
      "execution_count": null,
      "metadata": {
        "id": "H1LaeY1P_ItW",
        "outputId": "d6d835bf-41ba-4624-a9e4-be84cd0dd46a"
      },
      "outputs": [
        {
          "data": {
            "text/plain": [
              "['Technical Data Analyst',\n",
              " 'Sr. Data Analyst - Full-time / Part-time',\n",
              " 'Data Analyst',\n",
              " 'Data Analyst',\n",
              " 'Data Analyst Junior settore Logistica',\n",
              " 'Senior Data Analyst - Now Hiring',\n",
              " 'Health Technology Data Analyst',\n",
              " 'Data Analyst',\n",
              " 'Love Excel? Junior Data Analyst for Real Estate',\n",
              " 'Data Analyst']"
            ]
          },
          "execution_count": 13,
          "metadata": {},
          "output_type": "execute_result"
        }
      ],
      "source": [
        "# previous for loop\n",
        "analyst_list = []\n",
        "\n",
        "for job in job_list:\n",
        "  if \"Data Analyst\" in job:\n",
        "    analyst_list.append(job)\n",
        "\n",
        "# show first 10 values\n",
        "analyst_list[:10]"
      ]
    },
    {
      "cell_type": "markdown",
      "metadata": {
        "id": "1qkcNFU6_ItW"
      },
      "source": [
        "However that was 4 lines of code!\n",
        "\n",
        "With list comprehension we can do it in only 1."
      ]
    },
    {
      "cell_type": "code",
      "execution_count": null,
      "metadata": {
        "id": "B9DHjUsL_ItX",
        "outputId": "a0c5950b-ea1f-40cc-cb56-2dabf0dbcdee"
      },
      "outputs": [
        {
          "data": {
            "text/plain": [
              "['Technical Data Analyst',\n",
              " 'Sr. Data Analyst - Full-time / Part-time',\n",
              " 'Data Analyst',\n",
              " 'Data Analyst',\n",
              " 'Data Analyst Junior settore Logistica',\n",
              " 'Senior Data Analyst - Now Hiring',\n",
              " 'Health Technology Data Analyst',\n",
              " 'Data Analyst',\n",
              " 'Love Excel? Junior Data Analyst for Real Estate',\n",
              " 'Data Analyst']"
            ]
          },
          "execution_count": 14,
          "metadata": {},
          "output_type": "execute_result"
        }
      ],
      "source": [
        "analyst_list = [job for job in job_list if \"Data Analyst\" in job]\n",
        "\n",
        "# show first 10 values\n",
        "analyst_list[:10]"
      ]
    },
    {
      "cell_type": "code",
      "execution_count": null,
      "metadata": {
        "id": "K4Y8eYO__ItX",
        "outputId": "85a000dc-5a27-4367-f131-bb6867287fd5"
      },
      "outputs": [
        {
          "name": "stdout",
          "output_type": "stream",
          "text": [
            "Job list is:      787685 jobs\n",
            "Analyst list is:  163124 jobs\n"
          ]
        }
      ],
      "source": [
        "print(\"Job list is:     \" , len(job_list), \"jobs\")\n",
        "print(\"Analyst list is: \", len(analyst_list), \"jobs\")"
      ]
    },
    {
      "cell_type": "code",
      "source": [
        "keys = ['a', 'b', 'c']\n",
        "values = [1, 2, 3]\n",
        "dictionary= { key : value  for key , value in zip(keys,values)}\n",
        "print(dictionary)"
      ],
      "metadata": {
        "id": "CbJ_nfGl_KZk",
        "outputId": "03aa2da3-dbe8-43fe-f59d-ee34bacdd747",
        "colab": {
          "base_uri": "https://localhost:8080/"
        }
      },
      "execution_count": 54,
      "outputs": [
        {
          "output_type": "stream",
          "name": "stdout",
          "text": [
            "{'a': 1, 'b': 2, 'c': 3}\n"
          ]
        }
      ]
    },
    {
      "cell_type": "code",
      "source": [
        "def is_prime(num):\n",
        "    return num > 1 and all(num % i != 0 for i in range(2, int(num ** 0.5) + 1))\n",
        "\n",
        "limit = 100\n",
        "primes = [num for num in range(2, limit) if is_prime(num)]\n",
        "print(primes)"
      ],
      "metadata": {
        "id": "xNZuWfUO_eAq",
        "outputId": "ff9fb83f-3a37-4266-e63c-87271036af37",
        "colab": {
          "base_uri": "https://localhost:8080/"
        }
      },
      "execution_count": 55,
      "outputs": [
        {
          "output_type": "stream",
          "name": "stdout",
          "text": [
            "[2, 3, 5, 7, 11, 13, 17, 19, 23, 29, 31, 37, 41, 43, 47, 53, 59, 61, 67, 71, 73, 79, 83, 89, 97]\n"
          ]
        }
      ]
    },
    {
      "cell_type": "code",
      "source": [
        "input_string = \"The quick brown fox jumps over the lazy dog.\"\n",
        "char_frequency = {char: input_string.count(char) for char in set(input_string) if char != ' '}\n",
        "print(char_frequency)"
      ],
      "metadata": {
        "id": "3zvECdQZ_vDe",
        "outputId": "e5c8f8ba-0f06-4cf2-abf6-98d5b7f8443d",
        "colab": {
          "base_uri": "https://localhost:8080/"
        }
      },
      "execution_count": 56,
      "outputs": [
        {
          "output_type": "stream",
          "name": "stdout",
          "text": [
            "{'q': 1, 'i': 1, 'y': 1, 's': 1, 'z': 1, 'p': 1, 'c': 1, 'g': 1, 'm': 1, 'a': 1, 'w': 1, 'l': 1, '.': 1, 'h': 2, 'd': 1, 'r': 2, 'b': 1, 'u': 2, 'e': 3, 'x': 1, 't': 1, 'n': 1, 'v': 1, 'o': 4, 'k': 1, 'j': 1, 'T': 1, 'f': 1}\n"
          ]
        }
      ]
    },
    {
      "cell_type": "code",
      "source": [
        "colors = ['red', 'green', 'blue']\n",
        "sizes = ['S', 'M', 'L']\n",
        "cartesian_product = [(color, size) for color in colors for size in sizes]\n",
        "print(cartesian_product)"
      ],
      "metadata": {
        "id": "-A5iUVoF_2_V",
        "outputId": "70a0a35c-49fe-4833-af86-361e4bb22d0d",
        "colab": {
          "base_uri": "https://localhost:8080/"
        }
      },
      "execution_count": 57,
      "outputs": [
        {
          "output_type": "stream",
          "name": "stdout",
          "text": [
            "[('red', 'S'), ('red', 'M'), ('red', 'L'), ('green', 'S'), ('green', 'M'), ('green', 'L'), ('blue', 'S'), ('blue', 'M'), ('blue', 'L')]\n"
          ]
        }
      ]
    },
    {
      "cell_type": "code",
      "source": [
        "words = [\"listen\", \"enlist\", \"rat\", \"tar\", \"art\", \"evil\", \"vile\", \"silent\", \"lives\", \"lives\"]\n",
        "anagrams = {}\n",
        "for word in words:\n",
        "    key = tuple(sorted(word))\n",
        "    if key not in anagrams:\n",
        "        anagrams[key] = []\n",
        "    anagrams[key].append(word)\n",
        "print(anagrams)\n",
        "# Using list comprehension to organize output\n",
        "anagram_groups = {key: value for key, value in anagrams.items() if len(value) > 1}\n",
        "print(anagram_groups)"
      ],
      "metadata": {
        "id": "uZ2mbbZTJUrO",
        "outputId": "ff40f801-0ac5-4396-8247-5742a93f4d3a",
        "colab": {
          "base_uri": "https://localhost:8080/"
        }
      },
      "execution_count": 59,
      "outputs": [
        {
          "output_type": "stream",
          "name": "stdout",
          "text": [
            "{('e', 'i', 'l', 'n', 's', 't'): ['listen', 'enlist', 'silent'], ('a', 'r', 't'): ['rat', 'tar', 'art'], ('e', 'i', 'l', 'v'): ['evil', 'vile'], ('e', 'i', 'l', 's', 'v'): ['lives', 'lives']}\n",
            "{('e', 'i', 'l', 'n', 's', 't'): ['listen', 'enlist', 'silent'], ('a', 'r', 't'): ['rat', 'tar', 'art'], ('e', 'i', 'l', 'v'): ['evil', 'vile'], ('e', 'i', 'l', 's', 'v'): ['lives', 'lives']}\n"
          ]
        }
      ]
    },
    {
      "cell_type": "code",
      "source": [
        "nested_dict= {\n",
        "    'a':[1,2,3],\n",
        "    'b':[4,5],\n",
        "    'c':[6,7,8]\n",
        "}\n",
        "flattened_list=[i for j in nested_dict.values() for i in j ]\n",
        "print(flattened_list)"
      ],
      "metadata": {
        "id": "xxTNdOrJJc54",
        "outputId": "ad94ce28-cb7d-49c0-fb9d-353377a15989",
        "colab": {
          "base_uri": "https://localhost:8080/"
        }
      },
      "execution_count": 60,
      "outputs": [
        {
          "output_type": "stream",
          "name": "stdout",
          "text": [
            "[1, 2, 3, 4, 5, 6, 7, 8]\n"
          ]
        }
      ]
    },
    {
      "cell_type": "code",
      "source": [
        "sentences = [\n",
        "    \"Hello World\",\n",
        "    \"This is an example sentence.\",\n",
        "    \"Another sentence to count vowels.\",\n",
        "]\n",
        "\n",
        "vowel_counts = {sentence: sum(sentence.lower().count(vowel) for vowel in 'aeiou') for sentence in sentences}\n",
        "print(vowel_counts)"
      ],
      "metadata": {
        "id": "pL1Xvt2ALMfx",
        "outputId": "be3de665-e4fa-46f4-d116-cf4abf241419",
        "colab": {
          "base_uri": "https://localhost:8080/"
        }
      },
      "execution_count": 61,
      "outputs": [
        {
          "output_type": "stream",
          "name": "stdout",
          "text": [
            "{'Hello World': 3, 'This is an example sentence.': 9, 'Another sentence to count vowels.': 11}\n"
          ]
        }
      ]
    },
    {
      "cell_type": "code",
      "source": [
        "words = [\"level\", \"hello\", \"radar\", \"python\", \"world\", \"deified\"]\n",
        "palindromes = [word for word in words if word == word[::-1]]\n",
        "print(palindromes)"
      ],
      "metadata": {
        "id": "CwBwgsNILsdb",
        "outputId": "08b5c18b-25d2-465b-82ab-f4b60b02aa56",
        "colab": {
          "base_uri": "https://localhost:8080/"
        }
      },
      "execution_count": 62,
      "outputs": [
        {
          "output_type": "stream",
          "name": "stdout",
          "text": [
            "['level', 'radar', 'deified']\n"
          ]
        }
      ]
    },
    {
      "cell_type": "code",
      "source": [
        "words = [\"apple\", \"banana\", \"pear\", \"kiwi\", \"cherry\", \"blueberry\"]\n",
        "grouped_by_length = {length: [word for word in words if len(word) == length] for length in set(len(word) for word in words)}\n",
        "print(grouped_by_length)"
      ],
      "metadata": {
        "id": "cgNM5-NMLWU2",
        "outputId": "92d9f1c9-ad4f-4b2d-b018-ecf1a5903242",
        "colab": {
          "base_uri": "https://localhost:8080/"
        }
      },
      "execution_count": 63,
      "outputs": [
        {
          "output_type": "stream",
          "name": "stdout",
          "text": [
            "{9: ['blueberry'], 4: ['pear', 'kiwi'], 5: ['apple'], 6: ['banana', 'cherry']}\n"
          ]
        }
      ]
    },
    {
      "cell_type": "code",
      "source": [
        "input_string = \"The quick brown fox jumps over the lazy dog.\"\n",
        "char_frequency = {char: input_string.count(char) for char in set(input_string) if char != ' '}\n",
        "print(char_frequency)"
      ],
      "metadata": {
        "id": "6mhJa5pfLxtc",
        "outputId": "110e9776-9886-4a44-e497-94d12bfec5ba",
        "colab": {
          "base_uri": "https://localhost:8080/"
        }
      },
      "execution_count": 64,
      "outputs": [
        {
          "output_type": "stream",
          "name": "stdout",
          "text": [
            "{'q': 1, 'i': 1, 'y': 1, 's': 1, 'z': 1, 'p': 1, 'c': 1, 'g': 1, 'm': 1, 'a': 1, 'w': 1, 'l': 1, '.': 1, 'h': 2, 'd': 1, 'r': 2, 'b': 1, 'u': 2, 'e': 3, 'x': 1, 't': 1, 'n': 1, 'v': 1, 'o': 4, 'k': 1, 'j': 1, 'T': 1, 'f': 1}\n"
          ]
        }
      ]
    },
    {
      "cell_type": "code",
      "source": [],
      "metadata": {
        "id": "qQnP-rPwL1Jn"
      },
      "execution_count": null,
      "outputs": []
    }
  ],
  "metadata": {
    "colab": {
      "provenance": []
    },
    "kernelspec": {
      "display_name": "Python 3",
      "name": "python3"
    },
    "language_info": {
      "codemirror_mode": {
        "name": "ipython",
        "version": 3
      },
      "file_extension": ".py",
      "mimetype": "text/x-python",
      "name": "python",
      "nbconvert_exporter": "python",
      "pygments_lexer": "ipython3",
      "version": "3.9.19"
    }
  },
  "nbformat": 4,
  "nbformat_minor": 0
}